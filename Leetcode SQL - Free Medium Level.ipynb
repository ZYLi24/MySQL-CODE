{
 "cells": [
  {
   "cell_type": "markdown",
   "id": "9fc11a92",
   "metadata": {},
   "source": [
    "## Leetcode SQL Problems - Free Medium"
   ]
  },
  {
   "cell_type": "markdown",
   "id": "e56ec651",
   "metadata": {},
   "source": [
    "### 177. Nth Highest Salary"
   ]
  },
  {
   "cell_type": "code",
   "execution_count": null,
   "id": "e08fb3a5",
   "metadata": {},
   "outputs": [],
   "source": [
    "CREATE FUNCTION getNthHighestSalary(N INT) RETURNS INT\n",
    "BEGIN\n",
    "  \n",
    "  DECLARE num int;\n",
    "  SET num = N-1;\n",
    "  \n",
    "  RETURN(\n",
    "     SELECT DISTINCT Salary\n",
    "     FROM Employee\n",
    "     ORDER BY Salary DESC\n",
    "     LIMIT num,1\n",
    "  );\n",
    "  \n",
    "END"
   ]
  },
  {
   "cell_type": "markdown",
   "id": "25f9cc3e",
   "metadata": {},
   "source": [
    "### 178. Rank Scores"
   ]
  },
  {
   "cell_type": "code",
   "execution_count": null,
   "id": "1c224d70",
   "metadata": {},
   "outputs": [],
   "source": [
    "# Solution 1\n",
    "\n",
    "SELECT \n",
    "    s1.Score AS score, \n",
    "    (\n",
    "        SELECT COUNT(DISTINCT s2.Score)\n",
    "        FROM Scores s2\n",
    "        WHERE s1.Score <= s2.Score\n",
    "    ) AS 'Rank'\n",
    "FROM Scores s1\n",
    "ORDER BY s1.Score DESC"
   ]
  },
  {
   "cell_type": "code",
   "execution_count": null,
   "id": "ac5a85a6",
   "metadata": {},
   "outputs": [],
   "source": [
    "# Solution 2\n",
    "\n",
    "SELECT\n",
    "    Score AS score,\n",
    "    DENSE_RANK() OVER(ORDER BY Score DESC) AS 'Rank'\n",
    "FROM Scores\n",
    "ORDER BY Score DESC"
   ]
  },
  {
   "cell_type": "markdown",
   "id": "75fcb0cd",
   "metadata": {},
   "source": [
    "### 180. Consecutive Numbers"
   ]
  },
  {
   "cell_type": "code",
   "execution_count": null,
   "id": "834da2f0",
   "metadata": {},
   "outputs": [],
   "source": [
    "# Solution 1\n",
    "SELECT DISTINCT num AS ConsecutiveNums\n",
    "FROM Logs l1\n",
    "WHERE \n",
    "    l1.Num = (\n",
    "        SELECT Num\n",
    "        FROM Logs l2\n",
    "        WHERE l2.Id - 1 = l1.Id\n",
    "    )\n",
    "    AND l1.Num = (\n",
    "        SELECT Num\n",
    "        FROM Logs l3\n",
    "        WHERE l3.Id - 2 = l1.Id\n",
    "    )"
   ]
  },
  {
   "cell_type": "code",
   "execution_count": null,
   "id": "087bf735",
   "metadata": {},
   "outputs": [],
   "source": [
    "# Solution 2\n",
    "SELECT DISTINCT l1.Num AS ConsecutiveNums\n",
    "FROM\n",
    "    Logs l1,\n",
    "    Logs l2,\n",
    "    Logs l3\n",
    "WHERE\n",
    "    l1.Id = l2.Id - 1\n",
    "    AND l1.Id = l3.Id - 2\n",
    "    AND l1.Num = l2.Num\n",
    "    AND l1.Num = l3.Num"
   ]
  },
  {
   "cell_type": "markdown",
   "id": "72d09643",
   "metadata": {},
   "source": [
    "### 184. Department Highest Salary"
   ]
  },
  {
   "cell_type": "code",
   "execution_count": null,
   "id": "a341afe0",
   "metadata": {},
   "outputs": [],
   "source": [
    "# Solution 1\n",
    "WITH depart_name AS (\n",
    "    SELECT \n",
    "        e.*,\n",
    "        d.Name AS Department \n",
    "    FROM Employee e\n",
    "    LEFT JOIN Department d\n",
    "    ON e.DepartmentId = d.Id\n",
    ")\n",
    "\n",
    "SELECT \n",
    "    d.Department,\n",
    "    d.Name AS Employee,\n",
    "    d.Salary\n",
    "FROM \n",
    "    depart_name d,\n",
    "    (SELECT \n",
    "        Department,\n",
    "        MAX(Salary) AS max_s\n",
    "    FROM depart_name\n",
    "    GROUP BY Department) m\n",
    "WHERE d.Department = m.Department\n",
    "AND d.Salary = m.max_s\n"
   ]
  },
  {
   "cell_type": "code",
   "execution_count": null,
   "id": "5a3fef08",
   "metadata": {},
   "outputs": [],
   "source": [
    "# Solution 2\n",
    "SELECT \n",
    "    d.Name AS Department,\n",
    "    e.Name AS Employee,\n",
    "    e.Salary\n",
    "FROM \n",
    "    Employee e\n",
    "    JOIN Department d\n",
    "    ON e.DepartmentId = d.Id\n",
    "WHERE (DepartmentId, Salary) IN \n",
    "    (SELECT \n",
    "        DepartmentId,\n",
    "        MAX(Salary)\n",
    "    FROM Employee\n",
    "    GROUP BY DepartmentId)"
   ]
  },
  {
   "cell_type": "markdown",
   "id": "18437a46",
   "metadata": {},
   "source": [
    "### 626. Exchange Seats"
   ]
  },
  {
   "cell_type": "code",
   "execution_count": null,
   "id": "c8e4a30d",
   "metadata": {},
   "outputs": [],
   "source": [
    "# Solution 1\n",
    "SELECT \n",
    "    s1.id, (\n",
    "        SELECT CASE\n",
    "            WHEN \n",
    "            MOD(s1.id, 2) = 1 \n",
    "            AND s1.id = (SELECT COUNT(*) FROM seat s1)\n",
    "            THEN (SELECT student FROM seat s2 WHERE s2.id = s1.id)\n",
    "\n",
    "            WHEN \n",
    "                MOD(s1.id, 2) = 1 \n",
    "                AND s1.id <> (SELECT COUNT(*) FROM seat s1)\n",
    "            THEN (SELECT student FROM seat s2 WHERE s2.id = s1.id + 1)\n",
    "\n",
    "            WHEN MOD(s1.id, 2) = 0\n",
    "            THEN (SELECT student FROM seat s2 WHERE s2.id = s1.id - 1)        \n",
    "        END\n",
    "    ) AS 'student'\n",
    "FROM  seat s1\n",
    "ORDER BY s1.id\n"
   ]
  },
  {
   "cell_type": "code",
   "execution_count": null,
   "id": "0dddbb85",
   "metadata": {},
   "outputs": [],
   "source": [
    "# Solution 2\n",
    "WITH counts AS (SELECT COUNT(*) AS count FROM seat)\n",
    "\n",
    "SELECT \n",
    "    (SELECT CASE\n",
    "        WHEN MOD(id, 2) = 1 AND id = counts.count\n",
    "        THEN id\n",
    "        WHEN MOD(id, 2) = 1 AND id <> counts.count\n",
    "        THEN id + 1\n",
    "        ELSE id - 1       \n",
    "    END) AS id,\n",
    "    student\n",
    "FROM seat, counts\n",
    "ORDER BY id"
   ]
  },
  {
   "cell_type": "code",
   "execution_count": null,
   "id": "dbb9b883",
   "metadata": {},
   "outputs": [],
   "source": []
  }
 ],
 "metadata": {
  "kernelspec": {
   "display_name": "Python 3",
   "language": "python",
   "name": "python3"
  },
  "language_info": {
   "codemirror_mode": {
    "name": "ipython",
    "version": 3
   },
   "file_extension": ".py",
   "mimetype": "text/x-python",
   "name": "python",
   "nbconvert_exporter": "python",
   "pygments_lexer": "ipython3",
   "version": "3.7.6"
  }
 },
 "nbformat": 4,
 "nbformat_minor": 5
}
